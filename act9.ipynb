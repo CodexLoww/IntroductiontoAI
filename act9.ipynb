{
 "cells": [
  {
   "cell_type": "code",
   "execution_count": 1,
   "metadata": {},
   "outputs": [
    {
     "data": {
      "text/plain": [
       "False"
      ]
     },
     "execution_count": 1,
     "metadata": {},
     "output_type": "execute_result"
    }
   ],
   "source": [
    "def magic_square(matrix):\n",
    "    size = len(matrix[0])\n",
    "    sum_list = []\n",
    "    for col in range(size):  # Vertical Sum\n",
    "        sum_list.append(sum(row[col] for row in matrix))\n",
    "    sum_list.extend([sum(lines) for lines in matrix])  # Horizontal sum\n",
    "\n",
    "    result1 = 0\n",
    "    for i in range(0, size):\n",
    "        result1 += matrix[i][i]\n",
    "    sum_list.append(result1)\n",
    "\n",
    "    result2 = 0\n",
    "    for i in range(size - 1, -1, -1):\n",
    "        result2 += matrix[i][size - i - 1]\n",
    "    sum_list.append(result2)\n",
    "\n",
    "    if len(set(sum_list)) > 1:\n",
    "        return False\n",
    "\n",
    "    return True\n",
    "    \n",
    "magic_square([[1,2,3], [4,5,6], [7,8,9]])"
   ]
  },
  {
   "cell_type": "code",
   "execution_count": 2,
   "metadata": {},
   "outputs": [
    {
     "data": {
      "text/plain": [
       "True"
      ]
     },
     "execution_count": 2,
     "metadata": {},
     "output_type": "execute_result"
    }
   ],
   "source": [
    "magic_square([[2, 7, 6], [9, 5, 1], [4, 3, 8]])"
   ]
  },
  {
   "cell_type": "code",
   "execution_count": 3,
   "metadata": {},
   "outputs": [
    {
     "name": "stdout",
     "output_type": "stream",
     "text": [
      "[{'a': 4, 'b': 8}, {'a': 3, 'b': 6}, {'a': 2, 'b': 4}, {'a': 1, 'b': 2}, {'a': 0, 'b': 0}]\n"
     ]
    }
   ],
   "source": [
    "# pip install python-constraint\n",
    "\n",
    "from constraint import *\n",
    "problem = Problem()\n",
    "problem.addVariable('a', range(10))\n",
    "problem.addVariable('b', range(10))\n",
    "problem.addConstraint(lambda a, b: a * 2 == b)\n",
    "\n",
    "solutions = problem.getSolutions()\n",
    "print(solutions)"
   ]
  },
  {
   "cell_type": "code",
   "execution_count": 4,
   "metadata": {},
   "outputs": [
    {
     "name": "stdout",
     "output_type": "stream",
     "text": [
      "False\n"
     ]
    }
   ],
   "source": [
    "def magic_sqaure(matrix_ms):\n",
    "    iSize = len(matrix_ms[0])\n",
    "    sum_list = []\n",
    "    for col in range(iSize):\n",
    "        sum_list.append(sum(row[col] for row in matrix_ms))\n",
    "        sum_list.extend([sum(lines) for lines in matrix_ms])\n",
    "\n",
    "    dlResult = 0\n",
    "    for i in range(0, iSize):\n",
    "        dlResult += matrix_ms[i][i]\n",
    "        sum_list.append(dlResult)\n",
    "        drResult = 0\n",
    "\n",
    "    for i in range(iSize - 1, -1, -1):\n",
    "        drResult += matrix_ms[i][i]\n",
    "        sum_list.append(drResult)\n",
    "\n",
    "        if len(set(sum_list)) > 1:\n",
    "            return False\n",
    "\n",
    "        return True\n",
    "\n",
    "print(magic_sqaure([[1, 2, 3], [4, 5, 6], [7, 8, 9]]))"
   ]
  },
  {
   "cell_type": "code",
   "execution_count": 5,
   "metadata": {},
   "outputs": [
    {
     "name": "stdout",
     "output_type": "stream",
     "text": [
      "[0, 0, 1, 1, 0, 0, 0]\n"
     ]
    }
   ],
   "source": [
    "denominations = [1, 2, 5, 10, 20, 50, 100]\n",
    "\n",
    "def returnChange(change, denominations):\n",
    "    toGiveBack = [0] * len(denominations)\n",
    "\n",
    "    for pos, coin in enumerate(reversed(denominations)):\n",
    "        while coin <= change:\n",
    "            change = change - coin\n",
    "            toGiveBack[pos] += 1\n",
    "    return(toGiveBack)\n",
    "\n",
    "print(returnChange(30, denominations))"
   ]
  },
  {
   "cell_type": "code",
   "execution_count": 6,
   "metadata": {},
   "outputs": [
    {
     "name": "stdout",
     "output_type": "stream",
     "text": [
      "\n",
      ". . .\n",
      ". . .\n",
      ". . .\n",
      "\n",
      "Move #1: player 1 plays 3 :\n",
      "\n",
      ". . O\n",
      ". . .\n",
      ". . .\n",
      "\n",
      "Move #2: player 2 plays 5 :\n",
      "\n",
      ". . O\n",
      ". X .\n",
      ". . .\n",
      "\n",
      "Move #3: player 1 plays 6 :\n",
      "\n",
      ". . O\n",
      ". X O\n",
      ". . .\n",
      "\n",
      "Move #4: player 2 plays 9 :\n",
      "\n",
      ". . O\n",
      ". X O\n",
      ". . X\n",
      "\n",
      "Move #5: player 1 plays 4 :\n",
      "\n",
      ". . O\n",
      "O X O\n",
      ". . X\n",
      "\n",
      "Move #6: player 2 plays 1 :\n",
      "\n",
      "X . O\n",
      "O X O\n",
      ". . X\n"
     ]
    }
   ],
   "source": [
    "# pip install easyAI\n",
    "from easyAI import TwoPlayerGame\n",
    "from easyAI.Player import Human_Player\n",
    "\n",
    "\n",
    "class TicTacToe(TwoPlayerGame):\n",
    "    \"\"\"The board positions are numbered as follows:\n",
    "    1 2 3\n",
    "    4 5 6\n",
    "    7 8 9\n",
    "    \"\"\"\n",
    "\n",
    "    def __init__(self, players):\n",
    "        self.players = players\n",
    "        self.board = [0 for i in range(9)]\n",
    "        self.current_player = 1  # player 1 starts.\n",
    "\n",
    "    def possible_moves(self):\n",
    "        return [i + 1 for i, e in enumerate(self.board) if e == 0]\n",
    "\n",
    "    def make_move(self, move):\n",
    "        self.board[int(move) - 1] = self.current_player\n",
    "\n",
    "    def unmake_move(self, move):  # optional method (speeds up the AI)\n",
    "        self.board[int(move) - 1] = 0\n",
    "\n",
    "    def lose(self):\n",
    "        \"\"\" Has the opponent \"three in line ?\" \"\"\"\n",
    "        return any(\n",
    "            [\n",
    "                all([(self.board[c - 1] == self.opponent_index) for c in line])\n",
    "                for line in [\n",
    "                    [1, 2, 3],\n",
    "                    [4, 5, 6],\n",
    "                    [7, 8, 9],  # horiz.\n",
    "                    [1, 4, 7],\n",
    "                    [2, 5, 8],\n",
    "                    [3, 6, 9],  # vertical\n",
    "                    [1, 5, 9],\n",
    "                    [3, 5, 7],\n",
    "                ]\n",
    "            ]\n",
    "        )  # diagonal\n",
    "\n",
    "    def is_over(self):\n",
    "        return (self.possible_moves() == []) or self.lose()\n",
    "\n",
    "    def show(self):\n",
    "        print(\n",
    "            \"\\n\"\n",
    "            + \"\\n\".join(\n",
    "                [\n",
    "                    \" \".join([[\".\", \"O\", \"X\"][self.board[3 * j + i]] for i in range(3)])\n",
    "                    for j in range(3)\n",
    "                ]\n",
    "            )\n",
    "        )\n",
    "\n",
    "    def scoring(self):\n",
    "        return -100 if self.lose() else 0\n",
    "\n",
    "\n",
    "if __name__ == \"__main__\":\n",
    "\n",
    "    from easyAI import AI_Player, Negamax\n",
    "\n",
    "    ai_algo = Negamax(6)\n",
    "    TicTacToe([Human_Player(), AI_Player(ai_algo)]).play()"
   ]
  }
 ],
 "metadata": {
  "kernelspec": {
   "display_name": "Python 3",
   "language": "python",
   "name": "python3"
  },
  "language_info": {
   "codemirror_mode": {
    "name": "ipython",
    "version": 3
   },
   "file_extension": ".py",
   "mimetype": "text/x-python",
   "name": "python",
   "nbconvert_exporter": "python",
   "pygments_lexer": "ipython3",
   "version": "3.11.2"
  },
  "orig_nbformat": 4
 },
 "nbformat": 4,
 "nbformat_minor": 2
}
